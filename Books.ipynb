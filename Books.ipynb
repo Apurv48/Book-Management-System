{
 "cells": [
  {
   "cell_type": "code",
   "execution_count": 1,
   "id": "5ebbabf8",
   "metadata": {
    "tags": []
   },
   "outputs": [
    {
     "name": "stdin",
     "output_type": "stream",
     "text": [
      "Enter Name Apurv Kumar\n",
      "Enter Your Number 9818541236\n",
      "Enter Your Mail apurv48@gmail.com\n",
      "Do you want a book Y/N  Y\n"
     ]
    },
    {
     "name": "stdout",
     "output_type": "stream",
     "text": [
      "These are our available Collection\n",
      "\n",
      "1,Rich Dad Poor Dad,Robert Kiyosaki,500,200\n",
      "2,The Monk Who sold His ferrari,Robin Sharma,300,195\n",
      "3,The Alchemist,Paulo Coelho,320,200\n",
      "4,The Complete Novel of Sherlock Holmes,Sir Arthur Conan Doyle,200,300\n",
      "5,The Intelligent Investor,Benjamin Graham,600,300\n",
      "\n",
      "\n"
     ]
    },
    {
     "name": "stdin",
     "output_type": "stream",
     "text": [
      "Select the Serial Number of Book  2\n",
      "Enter quantity of Books  2\n"
     ]
    },
    {
     "name": "stdout",
     "output_type": "stream",
     "text": [
      "\n",
      "\n",
      "Total Bill :  600 Rs\n",
      "Thanks for purchasing The Monk Who sold His ferrari by Robin Sharma\n"
     ]
    }
   ],
   "source": [
    "fd = open(\"Books.txt\",'r')\n",
    "b=fd.read().split(\"\\n\")\n",
    "fd.close()\n",
    "\n",
    "us_name = input(\"Enter Name\")\n",
    "us_ph = input(\"Enter Your Number\")\n",
    "us_mail = input(\"Enter Your Mail\")\n",
    "\n",
    "Choice = str(input(\"Do you want a book Y/N \"))\n",
    "\n",
    "updated_product_list=[]\n",
    "\n",
    "if(Choice=='Y'or Choice=='y'):\n",
    "    \n",
    "    fd = open(\"Books.txt\",'r')\n",
    "    text = fd.read().split(\"\\n\")\n",
    "    texts=fd.read()\n",
    "    fd.close()\n",
    "    \n",
    "    print(\"These are our available Collection\\n\")\n",
    "    for i in text:\n",
    "        print(i)\n",
    "    print(\"\\n\")\n",
    "    ch=input(\"Select the Serial Number of Book \")\n",
    "    book_qn=int(input(\"Enter quantity of Books \"))\n",
    "    print(\"\\n\")\n",
    "    for book in text:\n",
    "        books = book.split(\",\")\n",
    "        if(books[0]==ch):\n",
    "            if(book_qn<=int(books[4])):\n",
    "                print(\"Total Bill : \",int(books[3])*int(book_qn),\"Rs\")\n",
    "                print(\"Thanks for purchasing\",books[1],\"by\",books[2])\n",
    "                books[4]=str(int(books[4])-int(book_qn))\n",
    "                sales = us_name+\",\"+us_ph+\",\"+us_mail+\",\"+books[1]+\",\"+str(book_qn)+\",\"+str(int(books[3])*int(book_qn))+\" \"+\"Rs\"+\"\\n\"\n",
    "                fd=open(\"Sales.txt\",\"a\")\n",
    "                fd.write(sales)\n",
    "                fd.close()\n",
    "            else:\n",
    "                print(\"Available Quantity \",books[4])\n",
    "                print(\"Do you want to Purchase These Quantity?\")\n",
    "                \n",
    "                ch=input(\"Enter Your choice Y/N \")\n",
    "                if(ch=='y' or ch == 'Y'):\n",
    "                    book_qn=books[4]\n",
    "                    print(\"Total Bill : \",int(books[3])*int(book_qn),\"Rs\")\n",
    "                    print(\"Thanks for purchasing\",books[1],\"by\",books[2])\n",
    "                    books[4]='0'\n",
    "                    sales = us_name+\",\"+us_ph+\",\"+us_mail+\",\"+books[1]+\",\"+str(book_qn)+\",\"+str(int(books[3])*int(book_qn))+\" \"+\"Rs\"+\"\\n\"\n",
    "                    fd=open(\"Sales.txt\",\"a\")\n",
    "                    fd.write(sales)\n",
    "                    fd.close()\n",
    "                else:\n",
    "                    print(\"Thanks You Visit Again\")\n",
    "        \n",
    "        updated_product_list.append(books)\n",
    "        \n",
    "        lst = []\n",
    "\n",
    "        for i in updated_product_list:\n",
    "            bk = i[0]+\",\"+i[1]+\",\"+i[2]+\",\"+i[3]+\",\"+i[4]+\"\\n\"\n",
    "            lst.append(bk)\n",
    "\n",
    "\n",
    "        lst[-1]=lst[-1][:-1]\n",
    "\n",
    "        fd = open(\"Books.txt\",\"w\")\n",
    "        for i in lst:\n",
    "            fd.write(i)\n",
    "        fd.close()\n",
    "\n",
    "\n",
    "\n",
    "\n",
    "\n",
    "else:\n",
    "    print(\"Thank You Visit again\")"
   ]
  },
  {
   "cell_type": "code",
   "execution_count": 2,
   "id": "8de87fd1",
   "metadata": {
    "tags": []
   },
   "outputs": [],
   "source": [
    "fd = open(\"Books.txt\",'r')\n",
    "b = fd.read()\n",
    "fd.close()"
   ]
  },
  {
   "cell_type": "markdown",
   "id": "ea97d2db-f91a-4e2b-8b94-fa9b7a482e05",
   "metadata": {},
   "source": [
    "Updated Inventory"
   ]
  },
  {
   "cell_type": "code",
   "execution_count": 3,
   "id": "4c55d3b7-ebaa-4bf2-a7e8-df020ede04e2",
   "metadata": {
    "tags": []
   },
   "outputs": [
    {
     "name": "stdout",
     "output_type": "stream",
     "text": [
      "1,Rich Dad Poor Dad,Robert Kiyosaki,500,200\n",
      "2,The Monk Who sold His ferrari,Robin Sharma,300,193\n",
      "3,The Alchemist,Paulo Coelho,320,200\n",
      "4,The Complete Novel of Sherlock Holmes,Sir Arthur Conan Doyle,200,300\n",
      "5,The Intelligent Investor,Benjamin Graham,600,300\n"
     ]
    }
   ],
   "source": [
    "print(b)"
   ]
  },
  {
   "cell_type": "markdown",
   "id": "2f0a3f44-52da-433e-88bd-463747188f89",
   "metadata": {},
   "source": [
    "UPDATED SALES LIST"
   ]
  },
  {
   "cell_type": "code",
   "execution_count": 4,
   "id": "5361449d-994a-41f9-bdc1-88c337838cba",
   "metadata": {
    "tags": []
   },
   "outputs": [
    {
     "name": "stdout",
     "output_type": "stream",
     "text": [
      "Apurv Kumar,9818541236,apurv48@gmail.com,The Monk Who sold His ferrari,2,600 Rs\n",
      "\n"
     ]
    }
   ],
   "source": [
    "fd=open(\"Sales.txt\",'r')\n",
    "sale = fd.read()\n",
    "fd.close()\n",
    "print(sale)"
   ]
  },
  {
   "cell_type": "code",
   "execution_count": null,
   "id": "7d8c3585-d76e-44a5-9cfb-f6eec14d8cae",
   "metadata": {},
   "outputs": [],
   "source": []
  }
 ],
 "metadata": {
  "kernelspec": {
   "display_name": "Python 3 (ipykernel)",
   "language": "python",
   "name": "python3"
  },
  "language_info": {
   "codemirror_mode": {
    "name": "ipython",
    "version": 3
   },
   "file_extension": ".py",
   "mimetype": "text/x-python",
   "name": "python",
   "nbconvert_exporter": "python",
   "pygments_lexer": "ipython3",
   "version": "3.11.5"
  }
 },
 "nbformat": 4,
 "nbformat_minor": 5
}
